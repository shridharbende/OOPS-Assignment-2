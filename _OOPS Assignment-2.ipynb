{
 "cells": [
  {
   "cell_type": "markdown",
   "id": "1a540077-9c50-4a5d-b1f2-d8894d10bef0",
   "metadata": {},
   "source": [
    "Q1. What is Abstraction in OOps? Explain with an example."
   ]
  },
  {
   "cell_type": "markdown",
   "id": "753b6d1f-5255-4407-854c-288adde8809c",
   "metadata": {},
   "source": [
    "Abstraction in OOPS:-\n",
    "Objects are the building blocks of Object-Oriented Programming. An object contains some properties and methods. We can hide them from the outer world through access modifiers. We can provide access only for required functions and properties to the other programs. This is the general procedure to implement abstraction in OOPS."
   ]
  },
  {
   "cell_type": "code",
   "execution_count": 2,
   "id": "cba76975-bd73-4133-b290-fc6cac6c8c23",
   "metadata": {},
   "outputs": [],
   "source": [
    "#example\n",
    "\n",
    "import abc\n",
    "class pwskills:\n",
    "    @abc.abstractmethod\n",
    "    def student_details(self):\n",
    "        pass\n",
    "    @abc.abstractmethod\n",
    "    def student_assignment(self):\n",
    "        pass\n",
    "    @abc.abstractmethod\n",
    "    def student_marks(self):\n",
    "        pass"
   ]
  },
  {
   "cell_type": "code",
   "execution_count": 3,
   "id": "18f475d3-79bb-4af1-8c60-6b6abf62b8d7",
   "metadata": {},
   "outputs": [],
   "source": [
    "class student_details(pwskills):\n",
    "    def student_details (self):\n",
    "        return \"this is a meth for taking student details\"\n",
    "    def student_assignment(self):\n",
    "        return \"this is meth for assing details for a perticular student\"\n",
    "    \n",
    "    "
   ]
  },
  {
   "cell_type": "code",
   "execution_count": 4,
   "id": "7ae43e7c-4ccf-4e45-83f5-dcd16c0fa93c",
   "metadata": {},
   "outputs": [],
   "source": [
    "class data_science_master(pwskills):\n",
    "    def student_details(self):\n",
    "        return \"this will return student details of data science master\"\n",
    "    def student_assignment(self):\n",
    "        return \"this will give you a student assignment details of data science master\"\n",
    "    "
   ]
  },
  {
   "cell_type": "code",
   "execution_count": 5,
   "id": "c65413e6-ec4b-40d1-b931-70a493772237",
   "metadata": {},
   "outputs": [
    {
     "data": {
      "text/plain": [
       "'this will return student details of data science master'"
      ]
     },
     "execution_count": 5,
     "metadata": {},
     "output_type": "execute_result"
    }
   ],
   "source": [
    "dsm = data_science_master()\n",
    "dsm.student_details()"
   ]
  },
  {
   "cell_type": "code",
   "execution_count": 6,
   "id": "25fa2ac8-1c23-49df-843c-986cc7d60986",
   "metadata": {},
   "outputs": [
    {
     "data": {
      "text/plain": [
       "'this is a meth for taking student details'"
      ]
     },
     "execution_count": 6,
     "metadata": {},
     "output_type": "execute_result"
    }
   ],
   "source": [
    "sd = student_details()\n",
    "sd.student_details()"
   ]
  },
  {
   "cell_type": "markdown",
   "id": "635da20c-3e27-4121-b3b9-dfe825bc83ae",
   "metadata": {},
   "source": [
    "Q2. Differentiate between Abstraction and Encapsulation. Explain with an example."
   ]
  },
  {
   "cell_type": "code",
   "execution_count": 11,
   "id": "d098f99d-5b93-4bad-a4ad-cad17de25c00",
   "metadata": {},
   "outputs": [],
   "source": [
    "#Abstraction is the method of hiding the unwanted information.\n",
    "import abc\n",
    "class Car:   \n",
    "    def mileage(self):   \n",
    "        pass  "
   ]
  },
  {
   "cell_type": "code",
   "execution_count": 15,
   "id": "a866ae1d-f842-4cb3-89cb-d9f94a4cc517",
   "metadata": {},
   "outputs": [],
   "source": [
    "class Tesla(Car):   \n",
    "    def mileage(self):   \n",
    "        print(\"The mileage is 30kmph\")   \n",
    "class Suzuki(Car):   \n",
    "    def mileage(self):   \n",
    "        print(\"The mileage is 25kmph \")   "
   ]
  },
  {
   "cell_type": "code",
   "execution_count": 17,
   "id": "22cca5f5-b2cd-4738-bd42-39ee7f454da0",
   "metadata": {},
   "outputs": [
    {
     "name": "stdout",
     "output_type": "stream",
     "text": [
      "The mileage is 30kmph\n",
      "The mileage is 27kmph \n"
     ]
    }
   ],
   "source": [
    "t= Tesla ()   \n",
    "t.mileage()   \n",
    "  \n",
    "r = Renault()   \n",
    "r.mileage()   "
   ]
  },
  {
   "cell_type": "code",
   "execution_count": 1,
   "id": "396cdb1a-3830-4fd8-9cc8-40631ec3c0f7",
   "metadata": {},
   "outputs": [],
   "source": [
    "#Whereas encapsulation is a method to hide the data in a single entity or unit along with a method to protect information from outside.\n",
    "\n",
    "class bank_account:\n",
    "    def __init__(self,balance):\n",
    "        self.__balance = balance\n",
    "        \n",
    "    def deposit(self, amount):\n",
    "        self.__balance = self.__balance + amount\n",
    "    \n",
    "    def withdraw(self, amount):\n",
    "        if self.__balance >= amount:\n",
    "            self.__deposit = self.__balance - amount\n",
    "            return True\n",
    "        else:\n",
    "            return False\n",
    "    def get_balance(self):\n",
    "        return self.__balance\n",
    "    \n"
   ]
  },
  {
   "cell_type": "code",
   "execution_count": 2,
   "id": "35b67c92-2176-469b-94f7-b1b3b1603da6",
   "metadata": {},
   "outputs": [],
   "source": [
    "shri = bank_account(5000)"
   ]
  },
  {
   "cell_type": "code",
   "execution_count": 3,
   "id": "ed952f19-1800-485f-9e8f-03b14e6e4c27",
   "metadata": {},
   "outputs": [
    {
     "data": {
      "text/plain": [
       "5000"
      ]
     },
     "execution_count": 3,
     "metadata": {},
     "output_type": "execute_result"
    }
   ],
   "source": [
    "shri.get_balance()"
   ]
  },
  {
   "cell_type": "code",
   "execution_count": 4,
   "id": "a2d31d7c-0b94-41e2-a992-4077854fe48c",
   "metadata": {},
   "outputs": [],
   "source": [
    "shri.deposit(2000)"
   ]
  },
  {
   "cell_type": "code",
   "execution_count": 5,
   "id": "57e7471b-94d4-4682-a085-be77ff86df37",
   "metadata": {},
   "outputs": [
    {
     "data": {
      "text/plain": [
       "7000"
      ]
     },
     "execution_count": 5,
     "metadata": {},
     "output_type": "execute_result"
    }
   ],
   "source": [
    "shri.get_balance()"
   ]
  },
  {
   "cell_type": "code",
   "execution_count": 6,
   "id": "666a1854-833a-4e79-9307-ec8cd684ce3d",
   "metadata": {},
   "outputs": [
    {
     "data": {
      "text/plain": [
       "False"
      ]
     },
     "execution_count": 6,
     "metadata": {},
     "output_type": "execute_result"
    }
   ],
   "source": [
    "shri.withdraw(9000)"
   ]
  },
  {
   "cell_type": "code",
   "execution_count": 7,
   "id": "361017c2-21fe-41b1-a47a-90fc8f99146d",
   "metadata": {},
   "outputs": [
    {
     "data": {
      "text/plain": [
       "True"
      ]
     },
     "execution_count": 7,
     "metadata": {},
     "output_type": "execute_result"
    }
   ],
   "source": [
    "shri.withdraw(2000)"
   ]
  },
  {
   "cell_type": "markdown",
   "id": "2612f057-dec6-4f0e-a3c7-5b18595f426f",
   "metadata": {},
   "source": [
    "Q3. What is abc module in python? Why is it used?"
   ]
  },
  {
   "cell_type": "markdown",
   "id": "202b772b-ff36-4eeb-93ec-755d65acde76",
   "metadata": {},
   "source": [
    "The 'abc' module in the Python library provides the infrastructure for defining custom abstract base classes. Abstract class cannot be instantiated in python. An Abstract method can be call by its subclasses."
   ]
  },
  {
   "cell_type": "markdown",
   "id": "e99181dd-aa95-4a46-97b4-833ff90c8d3e",
   "metadata": {},
   "source": [
    "Q4. How can we achieve data abstraction?"
   ]
  },
  {
   "cell_type": "markdown",
   "id": "7a69a000-5d5a-49a6-94c5-f5867fccd46b",
   "metadata": {},
   "source": [
    "In Python, abstraction can be achieved by having/using abstract classes and methods in our programs. Understanding Abstract Methods and Classes: An abstract method is a method that is declared, but does not contain implementation."
   ]
  },
  {
   "cell_type": "markdown",
   "id": "74a78c99-345b-4315-a5b6-7d6813fb7f4d",
   "metadata": {},
   "source": [
    "Q5. Can we create an instance of an abstract class? Explain your answer."
   ]
  },
  {
   "cell_type": "markdown",
   "id": "c422b2b2-44c5-4e23-a9d3-0fe4d591b2c4",
   "metadata": {},
   "source": [
    "Abstract classes cannot be instantiated, but they can be subclassed. When an abstract class is subclassed, the subclass usually provides implementations for all of the abstract methods in its parent class. However, if it does not, then the subclass must also be declared abstract ."
   ]
  },
  {
   "cell_type": "code",
   "execution_count": null,
   "id": "9ff5c3e7-be48-4f1c-b4aa-68df1ae65cab",
   "metadata": {},
   "outputs": [],
   "source": []
  }
 ],
 "metadata": {
  "kernelspec": {
   "display_name": "Python 3 (ipykernel)",
   "language": "python",
   "name": "python3"
  },
  "language_info": {
   "codemirror_mode": {
    "name": "ipython",
    "version": 3
   },
   "file_extension": ".py",
   "mimetype": "text/x-python",
   "name": "python",
   "nbconvert_exporter": "python",
   "pygments_lexer": "ipython3",
   "version": "3.10.8"
  }
 },
 "nbformat": 4,
 "nbformat_minor": 5
}
